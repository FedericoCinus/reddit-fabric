{
 "cells": [
  {
   "cell_type": "code",
   "execution_count": 3,
   "metadata": {},
   "outputs": [
    {
     "data": {
      "text/plain": [
       "array([0, 0, 0, ..., 0, 0, 1])"
      ]
     },
     "execution_count": 3,
     "metadata": {},
     "output_type": "execute_result"
    }
   ],
   "source": [
    "from joblib import load\n",
    "from pathlib import Path\n",
    "import numpy as np\n",
    "import scipy\n",
    "\n",
    "quantifier = load('../models/mnb_quantifier-year-seed0.joblib')\n",
    "classifier = load('../models/mnb_classifier-year-seed0.joblib')\n",
    "\n",
    "X_npy_path = Path(f\"../data/dataset/year__body/X.npz\")\n",
    "X = scipy.sparse.load_npz(X_npy_path)\n",
    "assert len(np.where(X.sum(axis=1)==0)[0]) == 0, \"Inactive users\"\n",
    "\n",
    "print(classifier.predict(X))\n",
    "print(quantifier.quantify(X))"
   ]
  }
 ],
 "metadata": {
  "kernelspec": {
   "display_name": "sdienv2",
   "language": "python",
   "name": "python3"
  },
  "language_info": {
   "codemirror_mode": {
    "name": "ipython",
    "version": 3
   },
   "file_extension": ".py",
   "mimetype": "text/x-python",
   "name": "python",
   "nbconvert_exporter": "python",
   "pygments_lexer": "ipython3",
   "version": "3.8.18"
  }
 },
 "nbformat": 4,
 "nbformat_minor": 2
}
