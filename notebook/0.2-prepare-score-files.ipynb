{
 "cells": [
  {
   "cell_type": "code",
   "execution_count": 1,
   "metadata": {},
   "outputs": [],
   "source": [
    "import glob\n",
    "from pathlib import Path\n",
    "import numpy as np\n",
    "import pandas as pd\n",
    "\n",
    "def retrieve_attrbute_log_probs(dimension, return_stats=False):\n",
    "    \"\"\" Dimension in [year, gender, partisan]\n",
    "    \"\"\"\n",
    "    dimension = 'demo_rep' if dimension == \"partisan\" else dimension\n",
    "    # Load all files for the given dimension\n",
    "    files = glob.glob(f\"../data/results/log_probs/dimension{dimension}-use_declaration_in_trainTrue-seed*log_prob.npy\")\n",
    "\n",
    "    # Read and stack numpy arrays\n",
    "    data_list = [np.load(file) for file in files]\n",
    "    data = np.stack(data_list, axis=0)\n",
    "\n",
    "    # Convert log probabilities to probabilities for each class\n",
    "    probabilities = np.exp(data)  # Shape will still be (num_seeds, 2, num_selected_features)\n",
    "\n",
    "    # Calculate log odds for each seed\n",
    "    log_odds = np.log((probabilities[:, 1, :] / (1 - probabilities[:, 1, :])) / \n",
    "                    (probabilities[:, 0, :] / (1 - probabilities[:, 0, :])))\n",
    "\n",
    "    # Calculate mean and standard deviation of log odds\n",
    "    mean_log_odds = np.mean(log_odds, axis=0)\n",
    "    \n",
    "    if not return_stats:\n",
    "        return mean_log_odds\n",
    "    \n",
    "    std_log_odds = (np.max(log_odds, axis=0) - np.min(log_odds, axis=0)) / 2\n",
    "\n",
    "    # Get indices of the top features\n",
    "    top_indices = np.argsort(np.abs(mean_log_odds))[::-1]\n",
    "\n",
    "    # Extract top features and their log odds\n",
    "    top_features = [subreddits[idx] for idx in top_indices]\n",
    "    \n",
    "    return mean_log_odds, std_log_odds, top_features\n",
    "\n",
    "\n",
    "subreddits = np.load(\"../data/input/list_subreddits.npy\", allow_pickle=True)\n",
    "data = {\"subreddit\": subreddits}\n",
    "data[\"year\"] = retrieve_attrbute_log_probs(\"year\")\n",
    "data[\"gender\"] = retrieve_attrbute_log_probs(\"gender\")\n",
    "data[\"partisan\"] = retrieve_attrbute_log_probs(\"partisan\")\n",
    "\n",
    "df_scores = pd.DataFrame(data)\n",
    "df_scores.to_csv(Path(\"../models/subreddit-logprobs.csv\"), index=False)\n"
   ]
  }
 ],
 "metadata": {
  "kernelspec": {
   "display_name": "sdienv2",
   "language": "python",
   "name": "python3"
  },
  "language_info": {
   "codemirror_mode": {
    "name": "ipython",
    "version": 3
   },
   "file_extension": ".py",
   "mimetype": "text/x-python",
   "name": "python",
   "nbconvert_exporter": "python",
   "pygments_lexer": "ipython3",
   "version": "3.8.18"
  }
 },
 "nbformat": 4,
 "nbformat_minor": 2
}
