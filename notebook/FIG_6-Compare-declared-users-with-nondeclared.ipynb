{
 "cells": [
  {
   "cell_type": "markdown",
   "metadata": {},
   "source": [
    "## Declared users"
   ]
  },
  {
   "cell_type": "code",
   "execution_count": 1,
   "metadata": {},
   "outputs": [],
   "source": [
    "from pathlib import Path\n",
    "import numpy as np\n",
    "\n",
    "import sys\n",
    "sys.path += ['../src/']\n",
    "\n",
    "from utils import load_data\n",
    "import yaml\n",
    "\n",
    "# 1. Define paths\n",
    "with open(\"../scripts/parameters.yaml\", 'r') as stream:\n",
    "    parameters = yaml.safe_load(stream)\n",
    "dataset_path = Path(parameters['dataset_path'])\n",
    "input_path = Path(parameters['input_path'])\n",
    "subreddit_names = np.load(input_path / Path(\"list_subreddits.npy\"), allow_pickle=True)\n",
    "DIMENSIONS = ['demo_rep', 'year', 'gender']"
   ]
  },
  {
   "cell_type": "code",
   "execution_count": 2,
   "metadata": {},
   "outputs": [
    {
     "name": "stdout",
     "output_type": "stream",
     "text": [
      "✅ Files already exist:\n",
      "  - ../data/dataset/control_group/X_control_sampled.npz\n",
      "  - ../data/dataset/control_group/y_control_sampled.csv\n",
      "📥 Loading existing matrix...\n"
     ]
    }
   ],
   "source": [
    "# Build random sample for control group\n",
    "\n",
    "from scipy.sparse import coo_matrix, csr_matrix, save_npz, load_npz\n",
    "import pandas as pd\n",
    "import numpy as np\n",
    "from pathlib import Path\n",
    "import psutil\n",
    "import time\n",
    "\n",
    "def count_lines(file_path: Path) -> int:\n",
    "    with open(file_path, \"rb\") as f:\n",
    "        return sum(1 for _ in f) - 1\n",
    "\n",
    "def create_sparse_matrix_sampled(\n",
    "    subreddit_names: list,\n",
    "    attribute_path: Path,\n",
    "    sample_frac: float = 0.25,\n",
    "    use_bool_features: bool = True,\n",
    "    chunk_size: int = 5_000_000,\n",
    "    save_path: Path = None,\n",
    "    return_loaded_if_exists: bool = True,\n",
    ") -> csr_matrix:\n",
    "    \"\"\"Build a sampled sparse matrix and save filtered y_control_sampled.csv.\"\"\"\n",
    "    \n",
    "    if save_path is None:\n",
    "        save_path = attribute_path / \"X_control_sampled.npz\"\n",
    "    y_output_path = attribute_path / \"y_control_sampled.csv\"\n",
    "\n",
    "    if save_path.exists() and y_output_path.exists():\n",
    "        print(f\"✅ Files already exist:\\n  - {save_path}\\n  - {y_output_path}\")\n",
    "        if return_loaded_if_exists:\n",
    "            print(\"📥 Loading existing matrix...\")\n",
    "            return load_npz(save_path)\n",
    "        else:\n",
    "            print(\"⏩ Skipping matrix creation.\")\n",
    "            return None\n",
    "\n",
    "    process = psutil.Process()\n",
    "    X_file = attribute_path / \"X.csv\"\n",
    "    total_lines = count_lines(X_file)\n",
    "    total_chunks = (total_lines + chunk_size - 1) // chunk_size\n",
    "    estimated_sampled = int(total_lines * sample_frac)\n",
    "\n",
    "    subreddit2index = {sub: i for i, sub in enumerate(subreddit_names)}\n",
    "    subreddit_set = set(subreddit2index)\n",
    "\n",
    "    y_df = pd.read_csv(attribute_path / \"y.csv\").drop_duplicates(subset=\"author\")\n",
    "    author2index = {auth: i for i, auth in enumerate(y_df[\"author\"])}\n",
    "    index2author = {i: auth for auth, i in author2index.items()}\n",
    "    author_set = set(author2index)\n",
    "\n",
    "    data = []\n",
    "    rows = []\n",
    "    cols = []\n",
    "    sampled_rows = 0\n",
    "    start_time = time.time()\n",
    "\n",
    "    for i, chunk in enumerate(pd.read_csv(X_file, chunksize=chunk_size)):\n",
    "        chunk = chunk[chunk[\"author\"].isin(author_set) & chunk[\"subreddit\"].isin(subreddit_set)]\n",
    "        if chunk.empty:\n",
    "            continue\n",
    "\n",
    "        chunk = chunk.sample(frac=sample_frac, random_state=42 + i)\n",
    "\n",
    "        row_idx = chunk[\"author\"].map(author2index).values\n",
    "        col_idx = chunk[\"subreddit\"].map(subreddit2index).values\n",
    "        val = np.ones_like(row_idx) if use_bool_features else chunk[\"count\"].values\n",
    "\n",
    "        rows.extend(row_idx)\n",
    "        cols.extend(col_idx)\n",
    "        data.extend(val)\n",
    "\n",
    "        sampled_rows += len(chunk)\n",
    "        pct = (i + 1) / total_chunks * 100\n",
    "        mem_gb = process.memory_info().rss / 1e9\n",
    "        print(\n",
    "            f\"[Chunk {i+1}/{total_chunks}] Sampled {len(chunk):,} rows | \"\n",
    "            f\"Total: {sampled_rows:,}/{estimated_sampled:,} | \"\n",
    "            f\"Mem: {mem_gb:.2f} GB | Done: {pct:.1f}%\"\n",
    "        )\n",
    "\n",
    "    full_X = coo_matrix((data, (rows, cols)), shape=(len(author2index), len(subreddit2index))).tocsr()\n",
    "\n",
    "    # Keep only non-zero rows\n",
    "    nonzero_mask = full_X.getnnz(axis=1) > 0\n",
    "    X_sparse = full_X[nonzero_mask]\n",
    "\n",
    "    save_npz(save_path, X_sparse)\n",
    "    print(f\"\\n✅ Saved sparse matrix to {save_path}\")\n",
    "    print(f\"🔢 Final shape: {X_sparse.shape}, nnz: {X_sparse.nnz:,}\")\n",
    "    print(f\"⏱️ Total time: {time.time() - start_time:.1f}s\")\n",
    "\n",
    "    # Write corresponding filtered y.csv\n",
    "    kept_indices = np.where(nonzero_mask)[0]\n",
    "    filtered_y_df = pd.DataFrame([index2author[i] for i in kept_indices], columns=[\"author\"])\n",
    "    filtered_y_df = filtered_y_df.merge(y_df, on=\"author\", how=\"left\")\n",
    "    filtered_y_df.to_csv(y_output_path, index=False)\n",
    "    print(f\"📝 Saved corresponding authors to {y_output_path}\")\n",
    "\n",
    "    return X_sparse\n",
    "    \n",
    "\n",
    "X_control_sampled = create_sparse_matrix_sampled(\n",
    "    subreddit_names=subreddit_names,\n",
    "    attribute_path=Path(dataset_path) / \"control_group\",\n",
    "    sample_frac=0.5,\n",
    "    use_bool_features=True,\n",
    "    chunk_size=5_000_000\n",
    ")"
   ]
  },
  {
   "cell_type": "code",
   "execution_count": 4,
   "metadata": {},
   "outputs": [
    {
     "name": "stdout",
     "output_type": "stream",
     "text": [
      "\n",
      "---> DIMENSION: demo_rep\n",
      " -- declaration data:\n",
      "\n",
      "   Scipy sparse data matrices already exist at ../data/dataset/demo_rep__body:  loading them\n",
      "Loaded data X:(5864, 10000), y:(5864,)  ✅\n",
      "\n",
      "---> DIMENSION: year\n",
      " -- declaration data:\n",
      "\n",
      "   Scipy sparse data matrices already exist at ../data/dataset/year__body:  loading them\n",
      "Loaded data X:(382429, 10000), y:(382429,)  ✅\n",
      "\n",
      "---> DIMENSION: gender\n",
      " -- declaration data:\n",
      "\n",
      "   Scipy sparse data matrices already exist at ../data/dataset/gender__body:  loading them\n",
      "Loaded data X:(383467, 10000), y:(383467,)  ✅\n",
      "NUMB_USERS: 771_760\n"
     ]
    }
   ],
   "source": [
    "DIMENSION2ACTIVITY = {}\n",
    "\n",
    "\n",
    "for dimension in DIMENSIONS:\n",
    "    print(f\"\\n---> DIMENSION: {dimension}\")\n",
    "    \n",
    "    # Load data\n",
    "    print(\" -- declaration data:\")\n",
    "    X_declarations, _y_declarations = load_data(attribute_path=dataset_path / Path(f\"{dimension}__body\"),\n",
    "                                               attribute_to_label=None,\n",
    "                                               input_path=input_path,\n",
    "                                               use_bool_features=False,\n",
    "                                               save=True)\n",
    "    DIMENSION2ACTIVITY[dimension] = X_declarations\n",
    "\n",
    "\n",
    "NUMB_USERS = sum([X.shape[0] for X in DIMENSION2ACTIVITY.values()])\n",
    "print(f\"NUMB_USERS: {NUMB_USERS:_}\")"
   ]
  },
  {
   "cell_type": "markdown",
   "metadata": {},
   "source": [
    "----------"
   ]
  },
  {
   "cell_type": "markdown",
   "metadata": {},
   "source": [
    "# ANALYSIS"
   ]
  },
  {
   "cell_type": "code",
   "execution_count": null,
   "metadata": {},
   "outputs": [
    {
     "name": "stdout",
     "output_type": "stream",
     "text": [
      "Treatment: (771760, 10000),   Control: (2968999, 10000)\n"
     ]
    }
   ],
   "source": [
    "from scipy.sparse import vstack\n",
    "import numpy as np\n",
    "from scipy import sparse\n",
    "\n",
    "def l1_normalize_sparse_rows(X):\n",
    "    \"\"\"\n",
    "    L1-normalize rows of a CSR sparse matrix (i.e., row sum = 1).\n",
    "    \"\"\"\n",
    "    row_sums = np.array(X.sum(axis=1)).flatten()\n",
    "    row_sums[row_sums == 0] = 1  # avoid division by zero\n",
    "    inv_row_sums = 1.0 / row_sums\n",
    "    diag_inv = sparse.diags(inv_row_sums)\n",
    "    return diag_inv.dot(X)\n",
    "\n",
    "def restrict_to_common_columns(X1, X2):\n",
    "    \"\"\"\n",
    "    Restrict two CSR sparse matrices to only columns (subreddits)\n",
    "    that have non-zero entries in both.\n",
    "    \"\"\"\n",
    "    # Get non-zero column indices for each matrix\n",
    "    nonzero_cols_1 = np.unique(X1.nonzero()[1])\n",
    "    nonzero_cols_2 = np.unique(X2.nonzero()[1])\n",
    "\n",
    "    # Intersection of active columns\n",
    "    common_cols = np.intersect1d(nonzero_cols_1, nonzero_cols_2)\n",
    "\n",
    "    print(f\"common_cols: {len(common_cols)}/{X1.shape[1]}\")\n",
    "\n",
    "    # Slice matrices to those columns\n",
    "    X1_reduced = X1[:, common_cols]\n",
    "    X2_reduced = X2[:, common_cols]\n",
    "\n",
    "    return X1_reduced, X2_reduced, common_cols\n",
    "\n",
    "\n",
    "\n",
    "\n",
    "# Creating matrices\n",
    "X1 = vstack([\n",
    "    DIMENSION2ACTIVITY['year'],\n",
    "    DIMENSION2ACTIVITY['gender'],\n",
    "    DIMENSION2ACTIVITY['demo_rep']\n",
    "])\n",
    "X2 = X_control_sampled\n",
    "\n",
    "print(f\"Treatment: {X1.shape},   Control: {X2.shape}\")\n"
   ]
  },
  {
   "cell_type": "code",
   "execution_count": 87,
   "metadata": {},
   "outputs": [
    {
     "name": "stdout",
     "output_type": "stream",
     "text": [
      "1.295740%\n"
     ]
    }
   ],
   "source": [
    "import numpy as np\n",
    "from scipy.sparse import csr_matrix\n",
    "\n",
    "np.random.seed(0)\n",
    "\n",
    "def sample_sparse_rows(X, n=5, seed=42):\n",
    "    rng = np.random.default_rng(seed)\n",
    "    indices = rng.choice(X.shape[0], size=min(n, X.shape[0]), replace=False)\n",
    "    return X[indices]\n",
    "\n",
    "n = 10_000\n",
    "\n",
    "print(f\"{n/X1.shape[0]:%}\")\n",
    "\n",
    "# Example: sample 5 rows from X1 and X2\n",
    "X1_sample = sample_sparse_rows(X1, n=n)\n",
    "X2_sample = X2\n",
    "\n",
    "#X1_sample, X2_sample, shared_subreddits = restrict_to_common_columns(X1_sample, X2_sample)"
   ]
  },
  {
   "cell_type": "code",
   "execution_count": 88,
   "metadata": {},
   "outputs": [],
   "source": [
    "# 2. Activity matching\n",
    "\n",
    "TEST = True\n",
    "\n",
    "import numpy as np\n",
    "from sklearn.neighbors import NearestNeighbors\n",
    "\n",
    "def match_users_by_activity(X1, X2):\n",
    "    # Get user activity levels (sparse row sums)\n",
    "    a1 = np.array(X1.sum(axis=1)).flatten().reshape(-1, 1)\n",
    "    a2 = np.array(X2.sum(axis=1)).flatten().reshape(-1, 1)\n",
    "\n",
    "    # Match Group 1 users to closest Group 2 users by activity (1D!)\n",
    "    nn = NearestNeighbors(n_neighbors=1, algorithm='auto', metric='manhattan')\n",
    "    nn.fit(a2)\n",
    "    _, indices = nn.kneighbors(a1)\n",
    "\n",
    "    # Allow repeated matches (fastest path)\n",
    "    X2_matched = X2[indices.flatten()]\n",
    "\n",
    "    return X1, X2_matched\n",
    "    \n",
    "\n",
    "\n",
    "X1_matched, X2_matched = match_users_by_activity(X1_sample, X2_sample) if TEST else match_users_by_activity(X1, X2)"
   ]
  },
  {
   "cell_type": "code",
   "execution_count": 89,
   "metadata": {},
   "outputs": [
    {
     "data": {
      "image/png": "[encoded data removed]",
      "text/plain": [
       "<Figure size 800x400 with 1 Axes>"
      ]
     },
     "metadata": {},
     "output_type": "display_data"
    }
   ],
   "source": [
    "import matplotlib.pyplot as plt\n",
    "\n",
    "activity1 = np.array(X1_matched.sum(axis=1)).flatten()\n",
    "activity2 = np.array(X2_matched.sum(axis=1)).flatten()\n",
    "\n",
    "plt.figure(figsize=(8, 4))\n",
    "plt.hist(activity1, bins=20, alpha=0.5, label='Group 1 - treatment')\n",
    "plt.hist(activity2, bins=20, alpha=0.5, label='Group 2 - control')\n",
    "plt.title('Distribution of User Activity (Row Sums)')\n",
    "plt.xlabel('Total Activity')\n",
    "plt.ylabel('Number of Users')\n",
    "plt.yscale(\"log\")\n",
    "plt.legend()\n",
    "plt.grid(True)\n",
    "plt.tight_layout()\n",
    "plt.show()"
   ]
  },
  {
   "cell_type": "markdown",
   "metadata": {},
   "source": [
    "### Q-Q plots"
   ]
  },
  {
   "cell_type": "code",
   "execution_count": null,
   "metadata": {},
   "outputs": [
    {
     "data": {
      "image/png": "[encoded data removed]",
      "text/plain": [
       "<Figure size 400x400 with 1 Axes>"
      ]
     },
     "metadata": {},
     "output_type": "display_data"
    },
    {
     "data": {
      "text/plain": [
       "0.40217536868130344"
      ]
     },
     "execution_count": 98,
     "metadata": {},
     "output_type": "execute_result"
    }
   ],
   "source": [
    "import numpy as np\n",
    "import scipy.stats as stats\n",
    "import matplotlib.pyplot as plt\n",
    "\n",
    "# Example: comparing row sums from two subreddits groups\n",
    "group1 = np.asarray(X1_matched.sum(axis=0)).flatten()\n",
    "group2 = np.asarray(X2_matched.sum(axis=0)).flatten()\n",
    "\n",
    "LIM = 3000#np.inf\n",
    "\n",
    "ok_indices = np.where(group1<LIM)[0]\n",
    "group1 = group1[ok_indices]\n",
    "group2 = group2[ok_indices]\n",
    "\n",
    "# Normalization step:\n",
    "group2 = np.round(group1.sum() * group2 / group2.sum())\n",
    "\n",
    "# Sort the values to get quantiles\n",
    "group1_sorted = np.sort(group1)\n",
    "group2_sorted = np.sort(group2)\n",
    "\n",
    "# Trim to equal length for Q-Q plot\n",
    "min_len = min(len(group1_sorted), len(group2_sorted))\n",
    "group1_sorted = group1_sorted[:min_len]\n",
    "group2_sorted = group2_sorted[:min_len]\n",
    "\n",
    "# Plot Q-Q comparison\n",
    "plt.figure(figsize=(4, 4))\n",
    "plt.plot(group1_sorted, group2_sorted, 'o', alpha=0.6)\n",
    "plt.plot([group1_sorted.min(), group1_sorted.max()],\n",
    "         [group1_sorted.min(), group1_sorted.max()],\n",
    "         'r--', label='y = x')\n",
    "plt.xlabel(\"Quantiles of Declared\")\n",
    "plt.ylabel(\"Quantiles of Control group\")\n",
    "if LIM < np.inf:\n",
    "    plt.xlim(0, LIM)\n",
    "    plt.ylim(0, LIM)\n",
    "plt.title(\"Empirical Q-Q Plot: Declared vs Control group\")\n",
    "plt.legend()\n",
    "plt.grid(True)\n",
    "plt.tight_layout()\n",
    "plt.show()"
   ]
  }
 ],
 "metadata": {
  "kernelspec": {
   "display_name": "sdienv2",
   "language": "python",
   "name": "python3"
  },
  "language_info": {
   "codemirror_mode": {
    "name": "ipython",
    "version": 3
   },
   "file_extension": ".py",
   "mimetype": "text/x-python",
   "name": "python",
   "nbconvert_exporter": "python",
   "pygments_lexer": "ipython3",
   "version": "3.8.18"
  }
 },
 "nbformat": 4,
 "nbformat_minor": 2
}
